{
 "cells": [
  {
   "cell_type": "code",
   "execution_count": 65,
   "metadata": {},
   "outputs": [],
   "source": [
    "x = 'GGACGGATTCTG'\n",
    "y = 'AGGACGGATTCT'\n",
    "\n",
    "#def hamming_distance(seq1, seq2):\n",
    "def hamming_distance(x, y):\n",
    "\n",
    "    mismatches = []\n",
    "    \n",
    "    for pos in range (len(x)) :\n",
    "        if x[pos] != y[pos]:\n",
    "            mismatches.append(1)\n",
    "        else:\n",
    "            mismatches.append(0)\n",
    "    \n",
    "    print(sum(mismatches))\n"
   ]
  },
  {
   "cell_type": "code",
   "execution_count": 66,
   "metadata": {},
   "outputs": [
    {
     "name": "stdout",
     "output_type": "stream",
     "text": [
      "9\n"
     ]
    }
   ],
   "source": [
    "hamming_distance(x, y)"
   ]
  },
  {
   "cell_type": "code",
   "execution_count": null,
   "metadata": {},
   "outputs": [],
   "source": []
  }
 ],
 "metadata": {
  "kernelspec": {
   "display_name": "Python 3",
   "language": "python",
   "name": "python3"
  },
  "language_info": {
   "codemirror_mode": {
    "name": "ipython",
    "version": 3
   },
   "file_extension": ".py",
   "mimetype": "text/x-python",
   "name": "python",
   "nbconvert_exporter": "python",
   "pygments_lexer": "ipython3",
   "version": "3.7.6"
  }
 },
 "nbformat": 4,
 "nbformat_minor": 4
}
